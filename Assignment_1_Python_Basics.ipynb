{
 "cells": [
  {
   "cell_type": "markdown",
   "id": "fc9517fd",
   "metadata": {},
   "source": [
    "## Assignment_1 – Python Basics"
   ]
  },
  {
   "cell_type": "markdown",
   "id": "a64ea62c",
   "metadata": {},
   "source": [
    "### 1. In the below elements which of them are values or an expression?\n",
    "\n",
    "| Element   | Type        |\n",
    "|-----------|-------------|\n",
    "| `*`       | Expression  |\n",
    "| `'hello'` | Value       |\n",
    "| `-87.8`   | Value       |\n",
    "| `-`       | Expression  |\n",
    "| `/`       | Expression  |\n",
    "| `+`       | Expression  |\n",
    "| `6`       | Value       |\n",
    "\n",
    "✅ **Values**: `'hello'`, `-87.8`, `6`  \n",
    "✅ **Expressions**: `*`, `-`, `/`, `+`\n"
   ]
  },
  {
   "cell_type": "markdown",
   "id": "10fddcd9",
   "metadata": {},
   "source": [
    "### 2. What is the difference between string and variable?\n",
    "\n",
    "- A **string** is a type of data that represents text, enclosed in quotes.  \n",
    "  Example: `'hello'`, `\"Python\"`\n",
    "\n",
    "- A **variable** is a name used to store values.  \n",
    "  Example: `msg = 'hello'`  \n",
    "  Here, `msg` is a variable, and `'hello'` is a string.\n"
   ]
  },
  {
   "cell_type": "markdown",
   "id": "62da4be7",
   "metadata": {},
   "source": [
    "### 3. Describe three different data types.\n",
    "\n",
    "1. **Integer (`int`)** – Whole numbers without decimals.  \n",
    "   Example: `10`, `-5`\n",
    "\n",
    "2. **Float (`float`)** – Numbers with decimals.  \n",
    "   Example: `3.14`, `-0.99`\n",
    "\n",
    "3. **String (`str`)** – Sequence of characters inside quotes.  \n",
    "   Example: `'Hello'`, `\"123\"`\n"
   ]
  },
  {
   "cell_type": "markdown",
   "id": "735d111e",
   "metadata": {},
   "source": [
    "### 4. What is an expression made up of? What do all expressions do?\n",
    "\n",
    "- An **expression** is made up of **values** and **operators**.\n",
    "- It is something that Python can **evaluate** to return a result.\n",
    "\n",
    "Example:  \n",
    "```python\n",
    "2 + 3 * 4  # Output: 14\n",
    "```\n",
    "\n",
    "✅ All expressions produce a **value**.\n"
   ]
  },
  {
   "cell_type": "markdown",
   "id": "80c1e72b",
   "metadata": {},
   "source": [
    "### 5. What is the difference between an expression and a statement?\n",
    "\n",
    "- **Expression**: A piece of code that returns a value.  \n",
    "  Example: `2 + 3`, `'Hello' * 2`\n",
    "\n",
    "- **Statement**: A line of code that performs an action.  \n",
    "  Example: `x = 10` (assignment statement)\n",
    "\n",
    "🟢 `spam = 10` is a **statement**, not an expression.\n"
   ]
  },
  {
   "cell_type": "markdown",
   "id": "2443d4a5",
   "metadata": {},
   "source": [
    "### 6. After running the following code, what does the variable `bacon` contain?\n",
    "\n",
    "```python\n",
    "bacon = 22\n",
    "bacon + 1\n",
    "```\n",
    "\n",
    "🟢 The value of `bacon` is still **22**.  \n",
    "Why? Because `bacon + 1` just evaluates a value but does **not update** `bacon`.\n"
   ]
  },
  {
   "cell_type": "markdown",
   "id": "46ea51ac",
   "metadata": {},
   "source": [
    "### 7. What should the values of the following two terms be?\n",
    "\n",
    "```python\n",
    "'spam' + 'spamspam'      # Output: 'spamspamspam'\n",
    "'spam' * 3               # Output: 'spamspamspam'\n",
    "```\n",
    "\n",
    "Both return `'spamspamspam'`.\n"
   ]
  },
  {
   "cell_type": "markdown",
   "id": "e672d3a6",
   "metadata": {},
   "source": [
    "### 8. Why is `eggs` a valid variable name while `100` is invalid?\n",
    "\n",
    "- `eggs` is valid because it starts with a **letter**.\n",
    "- `100` is invalid because variable names **cannot start with numbers** in Python.\n",
    "\n",
    "✅ Valid names: `egg`, `_count`, `value2`  \n",
    "❌ Invalid: `123num`, `100`, `@total`\n"
   ]
  },
  {
   "cell_type": "markdown",
   "id": "4b18b03e",
   "metadata": {},
   "source": [
    "### 9. What three functions can be used to get the integer, floating-point number, or string version of a value?\n",
    "\n",
    "- `int()` – Converts to **integer**  \n",
    "  Example: `int(3.8)` → `3`\n",
    "\n",
    "- `float()` – Converts to **float**  \n",
    "  Example: `float(5)` → `5.0`\n",
    "\n",
    "- `str()` – Converts to **string**  \n",
    "  Example: `str(100)` → `'100'`\n"
   ]
  },
  {
   "cell_type": "markdown",
   "id": "e3848c66",
   "metadata": {},
   "source": [
    "### 10. Why does this expression cause an error? How can you fix it?\n",
    "\n",
    "```python\n",
    "'I have eaten ' + 99 + ' burritos.'\n",
    "```\n",
    "\n",
    "❌ This gives a **TypeError** because we can't join a string with an **integer**.\n",
    "\n",
    "✅ **Fix:**\n",
    "```python\n",
    "'I have eaten ' + str(99) + ' burritos.'\n",
    "```\n",
    "\n",
    "✅ Output:\n",
    "```\n",
    "'I have eaten 99 burritos.'\n",
    "```\n"
   ]
  }
 ],
 "metadata": {},
 "nbformat": 4,
 "nbformat_minor": 5
}
